{
 "cells": [
  {
   "cell_type": "code",
   "execution_count": 2,
   "id": "69e8d195",
   "metadata": {},
   "outputs": [
    {
     "name": "stdout",
     "output_type": "stream",
     "text": [
      "Hey!\n",
      "Welcome\n",
      "to\n",
      "ISMT College!\n"
     ]
    }
   ],
   "source": [
    "wel=(\"Hey!\",\"Welcome\",\"to\",\"ISMT College!\")\n",
    "for come in wel:\n",
    "    print(come)"
   ]
  },
  {
   "cell_type": "code",
   "execution_count": 3,
   "id": "d8c7dc65",
   "metadata": {},
   "outputs": [
    {
     "name": "stdout",
     "output_type": "stream",
     "text": [
      "Enter a number: 16\n",
      "16 x 1 = 16\n",
      "16 x 2 = 32\n",
      "16 x 3 = 48\n",
      "16 x 4 = 64\n",
      "16 x 5 = 80\n",
      "16 x 6 = 96\n",
      "16 x 7 = 112\n",
      "16 x 8 = 128\n",
      "16 x 9 = 144\n",
      "16 x 10 = 160\n"
     ]
    }
   ],
   "source": [
    "num = int(input(\"Enter a number: \"))\n",
    "for i in range(1, 11):\n",
    "    print(num, \"x\", i, \"=\", num * i)"
   ]
  },
  {
   "cell_type": "code",
   "execution_count": 19,
   "id": "365c8a38",
   "metadata": {},
   "outputs": [
    {
     "name": "stdout",
     "output_type": "stream",
     "text": [
      "{'house', 'human', 'Oxygen', 'earth'}\n",
      "{'house', 'Oxygen', 'human', 'Air', 'earth'}\n",
      "{'Oxygen', 'human', 'Air', 'earth'}\n"
     ]
    }
   ],
   "source": [
    "word ={\"Oxygen\", \"human\", \"earth\", \"house\"}\n",
    "print(word)\n",
    "word.add(\"Air\")\n",
    "print(word)\n",
    "word.remove(\"house\")\n",
    "print(word)"
   ]
  },
  {
   "cell_type": "code",
   "execution_count": 26,
   "id": "b7cb38d2",
   "metadata": {},
   "outputs": [
    {
     "name": "stdout",
     "output_type": "stream",
     "text": [
      "Even numbers from list: [2, 4, 6, 8, 12, 34]\n"
     ]
    }
   ],
   "source": [
    "num=[2,3,4,5,6,7,8,9,12,345,34,6575,23]\n",
    "even_num= list(filter(lambda a: a%2 ==0, num))\n",
    "print(\"Even numbers from list:\", even_num)"
   ]
  },
  {
   "cell_type": "code",
   "execution_count": 1,
   "id": "4ded560b",
   "metadata": {},
   "outputs": [
    {
     "name": "stdout",
     "output_type": "stream",
     "text": [
      "\n",
      " The sum of the 10 numbers is: 55\n"
     ]
    }
   ],
   "source": [
    "sum=0\n",
    "a=1\n",
    "while a<= 10:\n",
    "    sum += a\n",
    "    a +=1\n",
    "print(\"\\n The sum of the 10 numbers is:\",sum)"
   ]
  },
  {
   "cell_type": "code",
   "execution_count": 6,
   "id": "f338280e",
   "metadata": {},
   "outputs": [
    {
     "name": "stdout",
     "output_type": "stream",
     "text": [
      "Enter a number: 2221\n",
      "2221 is not an Armstrong number.\n"
     ]
    }
   ],
   "source": [
    "number = int(input(\"Enter a number: \"))\n",
    "num_str = str(number)\n",
    "num_digits = len(num_str)\n",
    "sum_of_powers = 0\n",
    "for digit in num_str:\n",
    "    sum_of_powers += int(digit) ** num_digits\n",
    "if number == sum_of_powers:\n",
    "    print(f\"{number} is an Armstrong number.\")\n",
    "else:\n",
    "    print(f\"{number} is not an Armstrong number.\")\n"
   ]
  },
  {
   "cell_type": "code",
   "execution_count": 18,
   "id": "36dc56ec",
   "metadata": {},
   "outputs": [
    {
     "name": "stdout",
     "output_type": "stream",
     "text": [
      "Enter the number of values: 4\n",
      "Enter value 1: apple\n",
      "Enter value 2: banana\n",
      "Enter value 3: cherry\n",
      "Enter value 4: dragon fruit\n",
      "The list of values is: ['apple', 'banana', 'cherry', 'dragon fruit']\n"
     ]
    }
   ],
   "source": [
    "N = int(input(\"Enter the number of values: \"))\n",
    "values = []\n",
    "for i in range(N):\n",
    "    value = input(f\"Enter value {i+1}: \")\n",
    "    values.append(value)\n",
    "print(\"The list of values is:\", values)\n"
   ]
  },
  {
   "cell_type": "code",
   "execution_count": 16,
   "id": "aa278b0f",
   "metadata": {},
   "outputs": [
    {
     "name": "stdout",
     "output_type": "stream",
     "text": [
      "Enter the number:10\n",
      "0, 1, 1, 2, 3, 5, 8 \n"
     ]
    }
   ],
   "source": [
    "N = int(input(\"Enter the number:\"))\n",
    "a=0 \n",
    "b=1\n",
    "print(a, end=\", \")\n",
    "for i in range(N):\n",
    "    if b > N:\n",
    "        break\n",
    "    print(b, end=\", \")\n",
    "    a, b = b, a + b\n",
    "print(\"\\b\\b \") "
   ]
  },
  {
   "cell_type": "code",
   "execution_count": 19,
   "id": "6af573a3",
   "metadata": {},
   "outputs": [
    {
     "name": "stdout",
     "output_type": "stream",
     "text": [
      "Enter the initial number (a): 2\n",
      "Enter the common difference (d): 4\n",
      "Enter the value of N: 10\n",
      "The 10th number of the arithmetic progression is: 38.0\n"
     ]
    }
   ],
   "source": [
    "a = float(input(\"Enter the initial number (a): \"))\n",
    "d = float(input(\"Enter the common difference (d): \"))\n",
    "N = int(input(\"Enter the value of N: \"))\n",
    "Nth_number = a + (N - 1) * d\n",
    "print(f\"The {N}th number of the arithmetic progression is: {Nth_number}\")\n"
   ]
  },
  {
   "cell_type": "code",
   "execution_count": 20,
   "id": "60024b09",
   "metadata": {},
   "outputs": [
    {
     "name": "stdout",
     "output_type": "stream",
     "text": [
      "Enter the initial number (a): 1\n",
      "Enter the common ratio (r): 2\n",
      "Enter the value of N: 5\n",
      "The sequence is: [1.0, 2.0, 4.0, 8.0, 16.0]\n"
     ]
    }
   ],
   "source": [
    "a = float(input(\"Enter the initial number (a): \"))\n",
    "r = float(input(\"Enter the common ratio (r): \"))\n",
    "N = int(input(\"Enter the value of N: \"))\n",
    "sequence = [a * (r ** i) for i in range(N)]\n",
    "print(\"The sequence is:\", sequence)"
   ]
  },
  {
   "cell_type": "code",
   "execution_count": 28,
   "id": "27e42210",
   "metadata": {},
   "outputs": [
    {
     "name": "stdout",
     "output_type": "stream",
     "text": [
      "Enter a string: sos\n",
      "The string is a palindrome.\n"
     ]
    }
   ],
   "source": [
    "# Accept input string\n",
    "string = input(\"Enter a string: \")\n",
    "\n",
    "# Check if the string is palindrome\n",
    "if string == string[::-1]:\n",
    "    print(\"The string is a palindrome.\")\n",
    "else:\n",
    "    print(\"The string is not a palindrome.\")\n"
   ]
  },
  {
   "cell_type": "code",
   "execution_count": 27,
   "id": "7fd706b1",
   "metadata": {},
   "outputs": [
    {
     "name": "stdout",
     "output_type": "stream",
     "text": [
      "Enter a string: Ranjit\n",
      "Number of lowercase letters: 5\n",
      "Number of uppercase letters: 1\n",
      "Number of numeric digits: 0\n"
     ]
    }
   ],
   "source": [
    "# Accept input string\n",
    "string = input(\"Enter a string: \")\n",
    "\n",
    "# Initialize counters\n",
    "lowercase_count = 0\n",
    "uppercase_count = 0\n",
    "digit_count = 0\n",
    "\n",
    "# Iterate through each character in the string\n",
    "for char in string:\n",
    "    # Check if the character is lowercase\n",
    "    if char.islower():\n",
    "        lowercase_count += 1\n",
    "    # Check if the character is uppercase\n",
    "    elif char.isupper():\n",
    "        uppercase_count += 1\n",
    "    # Check if the character is a digit\n",
    "    elif char.isdigit():\n",
    "        digit_count += 1\n",
    "\n",
    "# Print the counts\n",
    "print(\"Number of lowercase letters:\", lowercase_count)\n",
    "print(\"Number of uppercase letters:\", uppercase_count)\n",
    "print(\"Number of numeric digits:\", digit_count)\n"
   ]
  },
  {
   "cell_type": "code",
   "execution_count": 29,
   "id": "6b0ed7a2",
   "metadata": {},
   "outputs": [
    {
     "name": "stdout",
     "output_type": "stream",
     "text": [
      "Enter a sequence of numbers separated by spaces: 1 2 3 4 5 6 7\n",
      "Sorted numbers: 1, 2, 3, 4, 5, 6, 7\n"
     ]
    }
   ],
   "source": [
    "# Accept input sequence of numbers\n",
    "numbers = input(\"Enter a sequence of numbers separated by spaces: \")\n",
    "\n",
    "# Split the input string into a list of numbers\n",
    "numbers_list = [int(num) for num in numbers.split()]\n",
    "\n",
    "# Sort the list of numbers\n",
    "sorted_numbers = sorted(numbers_list)\n",
    "\n",
    "# Print the sorted numbers separated by commas\n",
    "print(\"Sorted numbers:\", \", \".join(map(str, sorted_numbers)))\n"
   ]
  },
  {
   "cell_type": "code",
   "execution_count": 45,
   "id": "0c2a7b7b",
   "metadata": {},
   "outputs": [
    {
     "name": "stdout",
     "output_type": "stream",
     "text": [
      "Enter Your balance:50000\n",
      "Your current balance is $50000\n",
      "Successfully credited $500.\n",
      "Your current balance is $50500\n",
      "Successfully debited $2000.\n",
      "Your current balance is $48500\n",
      "Error: Amount must be positive.\n",
      "Error: Amount must be positive.\n"
     ]
    }
   ],
   "source": [
    "# Initial balance\n",
    "balance = int(input(\"Enter Your balance:\"))\n",
    "\n",
    "# Function to display balance\n",
    "def display_balance():\n",
    "    print(f\"Your current balance is ${balance}\")\n",
    "\n",
    "# Function to credit money into the account\n",
    "def credit(amount):\n",
    "    global balance\n",
    "    if amount > 0:\n",
    "        balance += amount\n",
    "        print(f\"Successfully credited ${amount}.\")\n",
    "        display_balance()\n",
    "    else:\n",
    "        print(\"Error: Amount must be positive.\")\n",
    "\n",
    "# Function to debit money from the account\n",
    "def debit(amount):\n",
    "    global balance\n",
    "    if amount > 0:\n",
    "        if amount <= balance:\n",
    "            balance -= amount\n",
    "            print(f\"Successfully debited ${amount}.\")\n",
    "            display_balance()\n",
    "        else:\n",
    "            print(\"Error: Insufficient funds.\")\n",
    "    else:\n",
    "        print(\"Error: Amount must be positive.\")\n",
    "\n",
    "# Example usage\n",
    "if __name__ == \"__main__\":\n",
    "    display_balance()  # Display initial balance\n",
    "\n",
    "    # Credit some money\n",
    "    credit(500)\n",
    "\n",
    "    # Debit some money\n",
    "    debit(2000)\n",
    "\n",
    "    # Try to debit with negative amount\n",
    "    debit(-100)\n",
    "\n",
    "    # Try to credit with negative amount\n",
    "    credit(-100)\n"
   ]
  },
  {
   "cell_type": "code",
   "execution_count": 43,
   "id": "29cf1088",
   "metadata": {},
   "outputs": [
    {
     "name": "stdout",
     "output_type": "stream",
     "text": [
      "dict1= {'A': 10, 'B': 20}\n",
      "dict2= {'C': 30, 'D': 40}\n",
      "dict3= {'E': 50, 'F': 60}\n"
     ]
    }
   ],
   "source": [
    "dict1 = {'A': 10, 'B': 20}\n",
    "dict2 = {'C': 30, 'D': 40}\n",
    "dict3 = {'E': 50, 'F': 60}\n",
    "print(\"dict1=\",dict1)\n",
    "print(\"dict2=\",dict2)\n",
    "print(\"dict3=\",dict3)"
   ]
  },
  {
   "cell_type": "code",
   "execution_count": 46,
   "id": "46d15aa1",
   "metadata": {},
   "outputs": [
    {
     "name": "stdout",
     "output_type": "stream",
     "text": [
      "Enter first date (YYYY-MM-DD): 2069-09-17\n",
      "Enter second date (YYYY-MM-DD): 2080-02-04\n",
      "Difference between the two dates: 3792 days, 0:00:00\n"
     ]
    }
   ],
   "source": [
    "from datetime import datetime\n",
    "\n",
    "# Accept input dates\n",
    "date1_str = input(\"Enter first date (YYYY-MM-DD): \")\n",
    "date2_str = input(\"Enter second date (YYYY-MM-DD): \")\n",
    "\n",
    "# Convert input strings to datetime objects\n",
    "date1 = datetime.strptime(date1_str, \"%Y-%m-%d\")\n",
    "date2 = datetime.strptime(date2_str, \"%Y-%m-%d\")\n",
    "\n",
    "# Calculate the difference between dates\n",
    "difference = date2 - date1\n",
    "\n",
    "# Print the difference\n",
    "print(\"Difference between the two dates:\", difference)\n"
   ]
  },
  {
   "cell_type": "code",
   "execution_count": 47,
   "id": "aacdc60a",
   "metadata": {},
   "outputs": [
    {
     "name": "stdout",
     "output_type": "stream",
     "text": [
      "Enter an email address: ranjit.bata1427@gmail.com\n",
      "Valid email address.\n"
     ]
    }
   ],
   "source": [
    "import re\n",
    "\n",
    "# Accept email id input\n",
    "email = input(\"Enter an email address: \")\n",
    "\n",
    "# Define regular expression pattern for email validation\n",
    "pattern = r\"^[a-zA-Z0-9._%+-]+@[a-zA-Z0-9.-]+\\.[a-zA-Z]{2,}$\"\n",
    "\n",
    "# Check if the email id syntax is valid\n",
    "if re.match(pattern, email):\n",
    "    print(\"Valid email address.\")\n",
    "else:\n",
    "    print(\"Invalid email address.\")\n"
   ]
  },
  {
   "cell_type": "code",
   "execution_count": 48,
   "id": "a7b38008",
   "metadata": {},
   "outputs": [
    {
     "name": "stdout",
     "output_type": "stream",
     "text": [
      "Enter the dividend: 2000\n",
      "Enter the divisor: 4\n",
      "Result of division: 500.0\n"
     ]
    }
   ],
   "source": [
    "# Accept input numbers\n",
    "try:\n",
    "    dividend = float(input(\"Enter the dividend: \"))\n",
    "    divisor = float(input(\"Enter the divisor: \"))\n",
    "    \n",
    "    # Perform division\n",
    "    result = dividend / divisor\n",
    "    print(\"Result of division:\", result)\n",
    "except ZeroDivisionError:\n",
    "    print(\"Error: Division by zero!\")\n",
    "except ValueError:\n",
    "    print(\"Error: Please enter valid numeric inputs.\")\n"
   ]
  },
  {
   "cell_type": "code",
   "execution_count": 51,
   "id": "9746992c",
   "metadata": {},
   "outputs": [
    {
     "name": "stdout",
     "output_type": "stream",
     "text": [
      "Requirement already satisfied: numpy in c:\\programdata\\anaconda3\\lib\\site-packages (1.24.3)\n",
      "Note: you may need to restart the kernel to use updated packages.\n"
     ]
    }
   ],
   "source": [
    "pip install numpy\n"
   ]
  },
  {
   "cell_type": "code",
   "execution_count": 52,
   "id": "1cd28df8",
   "metadata": {},
   "outputs": [
    {
     "name": "stdout",
     "output_type": "stream",
     "text": [
      "\n",
      " 2D Array:\n",
      " [[1 2]\n",
      " [3 4]]\n"
     ]
    }
   ],
   "source": [
    "import numpy as np\n",
    "array_2D= np.arange(1,5).reshape(2,2)\n",
    "print(\"\\n 2D Array:\\n\",array_2D)"
   ]
  },
  {
   "cell_type": "code",
   "execution_count": 53,
   "id": "ef18a051",
   "metadata": {},
   "outputs": [
    {
     "name": "stdout",
     "output_type": "stream",
     "text": [
      "The multiplication of Two Matrix is: [ 4 10 18]\n"
     ]
    }
   ],
   "source": [
    "array1 = np.array([1,2,3])\n",
    "array2 = np.array([4,5,6])\n",
    "multipliction = array1*array2\n",
    "print(\"The multiplication of Two Matrix is:\", multipliction)"
   ]
  },
  {
   "cell_type": "code",
   "execution_count": null,
   "id": "b71095fa",
   "metadata": {},
   "outputs": [],
   "source": []
  }
 ],
 "metadata": {
  "kernelspec": {
   "display_name": "Python 3 (ipykernel)",
   "language": "python",
   "name": "python3"
  },
  "language_info": {
   "codemirror_mode": {
    "name": "ipython",
    "version": 3
   },
   "file_extension": ".py",
   "mimetype": "text/x-python",
   "name": "python",
   "nbconvert_exporter": "python",
   "pygments_lexer": "ipython3",
   "version": "3.11.7"
  }
 },
 "nbformat": 4,
 "nbformat_minor": 5
}
