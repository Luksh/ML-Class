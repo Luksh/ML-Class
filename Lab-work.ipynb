{
 "cells": [
  {
   "cell_type": "code",
   "execution_count": 2,
   "id": "611f00e1-6079-437a-92a1-5ae7e540f506",
   "metadata": {},
   "outputs": [
    {
     "name": "stdout",
     "output_type": "stream",
     "text": [
      "Hey!\n",
      "Welcome\n",
      "to\n",
      "ISMT\n",
      "College!\n"
     ]
    }
   ],
   "source": [
    "text = \"Hey!\\nWelcome\\nto\\nISMT\\nCollege!\"\n",
    "\n",
    "print(text)"
   ]
  },
  {
   "cell_type": "code",
   "execution_count": 4,
   "id": "6fd18665-4057-4426-8905-6d3b8a63e0bb",
   "metadata": {},
   "outputs": [
    {
     "name": "stdout",
     "output_type": "stream",
     "text": [
      "2\n",
      "4\n",
      "6\n",
      "8\n",
      "10\n",
      "12\n",
      "14\n",
      "16\n",
      "18\n",
      "20\n",
      "22\n",
      "24\n",
      "26\n",
      "28\n",
      "30\n",
      "32\n",
      "34\n",
      "36\n",
      "38\n",
      "40\n",
      "42\n",
      "44\n",
      "46\n",
      "48\n",
      "50\n",
      "50\n"
     ]
    }
   ],
   "source": [
    "for num in range(1,51):\n",
    "    if num%2==0:\n",
    "        print(num)\n",
    "print(num)"
   ]
  },
  {
   "cell_type": "code",
   "execution_count": 7,
   "id": "a11d052b-324f-4685-8ac2-46189bbedc37",
   "metadata": {},
   "outputs": [
    {
     "name": "stdout",
     "output_type": "stream",
     "text": [
      "Shristi Maharjan studies in ISMT.\n"
     ]
    }
   ],
   "source": [
    "sentence=\"Laxman Maharjan studies in ISMT.\"\n",
    "replaced_sentence=sentence.replace(\"Laxman\",\"Shristi\")\n",
    "print(replaced_sentence)"
   ]
  },
  {
   "cell_type": "code",
   "execution_count": 11,
   "id": "0e082022-c9e3-4f08-b2dc-95b5eadf7f87",
   "metadata": {},
   "outputs": [
    {
     "ename": "TypeError",
     "evalue": "'<=' not supported between instances of 'str' and 'int'",
     "output_type": "error",
     "traceback": [
      "\u001b[1;31m---------------------------------------------------------------------------\u001b[0m",
      "\u001b[1;31mTypeError\u001b[0m                                 Traceback (most recent call last)",
      "Cell \u001b[1;32mIn[11], line 2\u001b[0m\n\u001b[0;32m      1\u001b[0m n\u001b[38;5;241m=\u001b[39m\u001b[38;5;124m\"\u001b[39m\u001b[38;5;124m\"\u001b[39m\n\u001b[1;32m----> 2\u001b[0m \u001b[38;5;28;01mif\u001b[39;00m n \u001b[38;5;241m<\u001b[39m\u001b[38;5;241m=\u001b[39m \u001b[38;5;241m0\u001b[39m:\n\u001b[0;32m      3\u001b[0m     \u001b[38;5;28mprint\u001b[39m(\u001b[38;5;124m\"\u001b[39m\u001b[38;5;124m\"\u001b[39m)\n\u001b[0;32m      4\u001b[0m \u001b[38;5;28;01melif\u001b[39;00m n \u001b[38;5;241m==\u001b[39m \u001b[38;5;241m1\u001b[39m:\n",
      "\u001b[1;31mTypeError\u001b[0m: '<=' not supported between instances of 'str' and 'int'"
     ]
    }
   ],
   "source": [
    "n=\"\"\n",
    "if n <= 0:\n",
    "    print(\"\")\n",
    "elif n == 1:\n",
    "    print(0)\n",
    "elif n == 2:\n",
    "    print(0,1)\n",
    "\n",
    "fibonacci_series=[]\n",
    "\n",
    "for i in range(2, n):\n",
    "    fibonacci_series.append(n)\n",
    "    return \" \".join(map(str, fibonacci_series))\n",
    "\n",
    "print(fibonacci_series)"
   ]
  },
  {
   "cell_type": "code",
   "execution_count": 15,
   "id": "ea550a36-4c3c-401c-8cbd-ce3015d56cd8",
   "metadata": {},
   "outputs": [
    {
     "name": "stdin",
     "output_type": "stream",
     "text": [
      "Enter a number 123456789\n"
     ]
    },
    {
     "name": "stdout",
     "output_type": "stream",
     "text": [
      "The sum of the digits of 123456789 is 45\n"
     ]
    }
   ],
   "source": [
    "def sum_of_digits(number):\n",
    "    # Ensure the number is positive for simplicity\n",
    "    number = abs(number)\n",
    "    \n",
    "    sum_digits = 0\n",
    "    while number > 0:\n",
    "        digit = number % 10\n",
    "        sum_digits += digit\n",
    "        number //= 10\n",
    "    \n",
    "    return sum_digits\n",
    "\n",
    "N = int(input(\"Enter a number\"))\n",
    "result = sum_of_digits(N)\n",
    "print(f\"The sum of the digits of {N} is {result}\")"
   ]
  },
  {
   "cell_type": "code",
   "execution_count": null,
   "id": "4fe267cc-fc0a-4dc8-b2d4-5333b7faca25",
   "metadata": {},
   "outputs": [],
   "source": []
  }
 ],
 "metadata": {
  "kernelspec": {
   "display_name": "Python 3 (ipykernel)",
   "language": "python",
   "name": "python3"
  },
  "language_info": {
   "codemirror_mode": {
    "name": "ipython",
    "version": 3
   },
   "file_extension": ".py",
   "mimetype": "text/x-python",
   "name": "python",
   "nbconvert_exporter": "python",
   "pygments_lexer": "ipython3",
   "version": "3.11.7"
  }
 },
 "nbformat": 4,
 "nbformat_minor": 5
}
